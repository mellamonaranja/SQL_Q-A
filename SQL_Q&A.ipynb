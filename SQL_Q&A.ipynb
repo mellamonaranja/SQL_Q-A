{
 "cells": [
  {
   "cell_type": "markdown",
   "metadata": {},
   "source": [
    "[BOOSTER 4.12-3] '현대차'(005380)의 2019년 전체 일별 주가에 대해 월별로 VOL(거래량)과 VOL_AMT(거래금액) 합계를 구하세요.\n",
    "* VOL_AMT로 내림차순 하세요.\n",
    "* 월 = DATE_FORMAT(DT,'%Y%m')"
   ]
  },
  {
   "cell_type": "code",
   "execution_count": null,
   "metadata": {},
   "outputs": [],
   "source": [
    "SELECT DATE_FORMAT(T1.DT,'%Y%m') YM, SUM(T1.VOL), SUM(T1.VOL*T1.C_PRC) VOL_AMT\n",
    "FROM HISTORY_DT T1\n",
    "WHERE T1.STK_CD='005380'\n",
    "AND T1.DT BETWEEN STR_TO_DATE('20190101','%Y%m%d') AND STR_TO_DATE('20191231','%Y%m%d')\n",
    "GROUP BY YM\n",
    "ORDER BY VOL_AMT DESC;"
   ]
  },
  {
   "cell_type": "markdown",
   "metadata": {},
   "source": [
    "[BOOSTER 4.14-1] STOCK에서 SEC_NM(섹터명)이 '자동차'이거나 '자동차부품'인 종목들을 모두 조회하세요.\n",
    "* 아래의 기준으로 자동차구분을 구해 같이 출력해 주세요.\n",
    "    * STK_NM(종목명)이 '현대'로 시작하면 '현대 관련주'로 나머지는 '비현대 관련주'로 구분합니다.\n",
    "* STK_NM 기준으로 내림차순 정렬해 주세요."
   ]
  },
  {
   "cell_type": "code",
   "execution_count": null,
   "metadata": {},
   "outputs": [],
   "source": [
    "SELECT T1.STK_CD, T1.STK_NM, T1.SEC_NM, \n",
    "CASE \n",
    "WHEN T1.STK_NM LIKE '현대%' THEN '현대 관련주'\n",
    "ELSE '비현대 관련주'\n",
    "END CARDISTINGUISH\n",
    "FROM STOCK T1\n",
    "WHERE T1.SEC_NM IN ('자동차','자동차부품')\n",
    "ORDER BY T1.STK_NM DESC;"
   ]
  },
  {
   "cell_type": "markdown",
   "metadata": {},
   "source": [
    "[BOOSTER 4.14-2] HISTORY_DT에서 2019년 1월 4일 데이터를 조회하세요.\n",
    "* CASE를 사용해 가격분류 항목을 추가해 주세요.\n",
    "* 가격분류 항목은 아래 로직을 사용합니다.\n",
    "    * C_PRC(종가)가 500,000원 이상이면 '높은가격'\n",
    "    * C_PRC가 100,000원 이상이면 '중간가격'\n",
    "    * C_PRC가 10,000원 이상이면 '일반가격'\n",
    "    * 나머지는 '낮은가격'으로 구분합니다.\n",
    "* C_PRC순으로 내림차순 정렬해 주세요."
   ]
  },
  {
   "cell_type": "code",
   "execution_count": null,
   "metadata": {},
   "outputs": [],
   "source": [
    "SELECT T1.STK_CD, T1.DT, T1.C_PRC, \n",
    "CASE \n",
    "WHEN T1.C_PRC>=500000 THEN 'HIGH PRICE'\n",
    "WHEN T1.C_PRC>=100000 THEN 'MIDIUM PRICE'\n",
    "WHEN T1.C_PRC>=10000 THEN 'NORMAL PRICE'\n",
    "ELSE 'LOW PRICE'\n",
    "END PRICEDISTINGUISH\n",
    "FROM HISTORY_DT T1\n",
    "WHERE T1.DT=STR_TO_DATE('20190104','%Y%m%d')\n",
    "ORDER BY T1.C_PRC DESC"
   ]
  },
  {
   "cell_type": "markdown",
   "metadata": {},
   "source": [
    "[BOOSTER 5.4-1] HISTORY_DT에서 2019년 3월 4일 주가 중에 CHG_RT(등락률)이 15 이상인 데이터만 조회하세요.\n",
    "  - 종목명과, 섹터명도 같이 조회하세요.\n",
    "  - VOL_AMT(거래금액 = VOL * C_PRC)으로 내림차순 하세요.\n",
    "  - VOL_AMT는 ROUND로 소수점 한자리 까지만 보여주세요."
   ]
  },
  {
   "cell_type": "code",
   "execution_count": null,
   "metadata": {},
   "outputs": [],
   "source": [
    "SELECT T1.STK_CD, T1.STK_NM, T1.SEC_NM, T2.CHG_RT, T2.C_PRC, T2.VOL, ROUND((T2.VOL*T2.C_PRC),1) VOL_AMT\n",
    "FROM STOCK T1\n",
    "INNER JOIN HISTORY_DT T2\n",
    "ON T1.STK_CD=T2.STK_CD\n",
    "WHERE T2.DT=STR_TO_DATE('20190304','%Y%m%d')\n",
    "AND T2.CHG_RT>=15\n",
    "ORDER BY VOL_AMT DESC;"
   ]
  },
  {
   "cell_type": "markdown",
   "metadata": {},
   "source": [
    "[BOOSTER 5.4-2] STOCK에서 '삼성바이오로직스'와 '셀트리온'을 조회하세요.\n",
    "  - HISTORY_DT와 조인을 통해 종목별로 19년 3월의 거래량합과, 거래금액(억)을 같이 보여주세요.\n",
    "  - 거래량합: VOL을 SUM 처리합니다.\n",
    "  - 거래금액(억): VOL * C_PRC를 SUM 처리한 후에, 1e8로 나눕니다.\n",
    "  - 거래량합, 거래금액(억)은 ROUND로 소수점 한자리까지만 보여주세요."
   ]
  },
  {
   "cell_type": "code",
   "execution_count": null,
   "metadata": {},
   "outputs": [],
   "source": [
    "SELECT T1.STK_CD, T1.STK_NM, ROUND(SUM(T2.VOL),1) SUM_VOL, ROUND(SUM(T2.VOL*T2.C_PRC)/1e8,1) TRADINGPRICE\n",
    "FROM STOCK T1\n",
    "INNER JOIN HISTORY_DT T2\n",
    "ON T2.STK_CD=T1.STK_CD\n",
    "WHERE T1.STK_NM IN ('삼성바이오로직스','셀트리온')\n",
    "AND T2.DT>=STR_TO_DATE('20190301','%Y%m%d')\n",
    "AND T2.DT<STR_TO_DATE('20190401','%Y%m%d')\n",
    "GROUP BY T1.STK_CD, T1.STK_NM\n",
    "ORDER BY TRADINGPRICE DESC;"
   ]
  },
  {
   "cell_type": "markdown",
   "metadata": {},
   "source": [
    "[BOOSTER 5.4-3] '삼성전자'와 'SK하이닉스'의 19년도 전체 일별주가에 대해 월별, 종목별 거래금액(억)을 보여주세요.\n",
    "  - 월로 먼저 오름차순 후에 종목코드로 오름차순 정렬하세요.\n",
    "  - 일자를 월로 바꾸는 방법 참고: DATE_FORMAT(DT,'%Y%m')"
   ]
  },
  {
   "cell_type": "code",
   "execution_count": null,
   "metadata": {},
   "outputs": [],
   "source": [
    "SELECT DATE_FORMAT(T2.DT, '%Y%m') YM, T1.STK_CD, T1.STK_NM, ROUND(SUM(T2.VOL*T2.C_PRC)/1.e8,1) TRADINGPRICE\n",
    "FROM STOCK T1\n",
    "INNER JOIN HISTORY_DT T2\n",
    "ON T2.STK_CD=T1.STK_CD\n",
    "WHERE T1.STK_NM IN ('삼성전자','SK하이닉스')\n",
    "AND T2.DT>=STR_TO_DATE('20190101','%Y%m%d')\n",
    "AND T2.DT<STR_TO_DATE('20200101','%Y%m%d')\n",
    "GROUP BY YM, T1.STK_CD, T1.STK_NM\n",
    "ORDER BY YM ASC, T1.STK_CD ASC;"
   ]
  },
  {
   "cell_type": "markdown",
   "metadata": {},
   "source": [
    "[BOOSTER 5.6-1] STOCK에서 STK_NM이 금속으로 끝나는 종목(STK_NM LIKE '%금속')을 조회하세요.\n",
    "  - HISTORY_DT의 19년 4월 9일의 C_PRC(종가)도 같이 보여주세요.\n",
    "  - HISTORY_DT에 19년 4월 9일 데이터가 없어도 종목 정보가 조회될 수 있도록 해주세요."
   ]
  },
  {
   "cell_type": "code",
   "execution_count": null,
   "metadata": {},
   "outputs": [],
   "source": [
    "SELECT T1.STK_CD, T1.STK_NM, T2.DT, T2.C_PRC\n",
    "FROM STOCK T1\n",
    "LEFT OUTER JOIN HISTORY_DT T2\n",
    "ON T2.STK_CD=T1.STK_CD\n",
    "AND T2.DT=STR_TO_DATE('20190409','%Y%m%d')\n",
    "WHERE T1.STK_NM LIKE '%금속'\n",
    "ORDER BY STK_CD;"
   ]
  },
  {
   "cell_type": "markdown",
   "metadata": {},
   "source": [
    "[BOOSTER 5.6-2] STOCK에서 STK_NM이 금속으로 끝나는 종목을 조회하세요.\n",
    "  - HISTORY_DT와 아우터 조인해 2019년 4월 한 달의 종목별 VOL(거래량) 합계도 보여주세요.\n",
    "  - 4월 거래량 합계가 NULL이면 0으로 치환해서 보여주세요. (IFNULL로 치환합니다.)\n",
    "  - 거래량 합계가 작은 데이터부터 조회되도록 정렬하세요."
   ]
  },
  {
   "cell_type": "code",
   "execution_count": null,
   "metadata": {},
   "outputs": [],
   "source": [
    "SELECT T1.STK_CD, T1.STK_NM, IFNULL(SUM(T2.VOL),0) VOL\n",
    "FROM STOCK T1\n",
    "LEFT OUTER JOIN HISTORY_DT T2\n",
    "ON T2.STK_CD=T1.STK_CD\n",
    "AND T2.DT>=STR_TO_DATE('20190401','%Y%m%d')\n",
    "AND T2.DT<STR_TO_DATE('20190501','%Y%m%d')\n",
    "WHERE T1.STK_NM LIKE '%금속'\n",
    "GROUP BY T1.STK_CD, T1.STK_NM\n",
    "ORDER BY VOL ASC;"
   ]
  },
  {
   "cell_type": "markdown",
   "metadata": {},
   "source": [
    "[BOOSTER 5.8-1] '삼성전자'와 '현대차'의 종목 정보와 2019년 4월 4일 종가를 보여주세요.\n",
    "  - 종목 정보에서 EX_CD의 코드 명칭은 서브쿼리를 사용하세요.\n",
    "  - 2019년 4월 4일의 종가는 조인으로 처리해서 보여주세요.\n",
    "  - 추가로 SELECT절 서브쿼리를 사용해 2019년 4월 3일의 종가도 보여주세요."
   ]
  },
  {
   "cell_type": "code",
   "execution_count": null,
   "metadata": {},
   "outputs": [],
   "source": [
    "SELECT T1.STK_CD, T1.STK_NM, T1.EX_CD, \n",
    "       (SELECT A.BAS_CD_NM\n",
    "       FROM BASECODE A\n",
    "       WHERE A.BAS_CD_DV='EX_CD'\n",
    "       AND A.BAS_CD=T1.EX_CD) EX_CD_NM,\n",
    "       T2.C_PRC C_PRC_0404,\n",
    "       (SELECT T3.C_PRC\n",
    "       FROM HISTORY_DT T3\n",
    "       WHERE T3.STK_CD=T1.STK_CD\n",
    "       AND T3.DT=STR_TO_DATE('20190403','%Y%m%d')) C_PRC_0403\n",
    "FROM STOCK T1\n",
    "INNER JOIN HISTORY_DT T2\n",
    "ON T2.STK_CD=T1.STK_CD\n",
    "AND T2.DT=STR_TO_DATE('20190404','%Y%m%d')\n",
    "\n",
    "WHERE T1.STK_NM IN ('삼성전자','현대차')\n",
    "ORDER BY T1.STK_CD ASC;"
   ]
  },
  {
   "cell_type": "markdown",
   "metadata": {},
   "source": [
    "[BOOSTER 5.8-2] 종목정보에서 'NAVER'와 '카카오'를 조회하세요\n",
    "  - SELECT절 서브쿼리로 종목별 2019년 4월의 VOL_SUM(거래량합)도 보여주세요."
   ]
  },
  {
   "cell_type": "code",
   "execution_count": null,
   "metadata": {},
   "outputs": [],
   "source": [
    "SELECT T1.STK_CD, T1.STK_NM, T1.SEC_NM,\n",
    "       (SELECT SUM(A.VOL)\n",
    "       FROM HISTORY_DT A\n",
    "       WHERE A.STK_CD=T1.STK_CD\n",
    "       AND A.DT>=STR_TO_DATE('20190401','%Y%m%d')\n",
    "       AND A.DT<STR_TO_DATE('20190501','%Y%m%d')) VOL_SUM\n",
    "FROM STOCK T1\n",
    "WHERE T1.STK_NM IN ('NAVER','카카오')\n",
    "ORDER BY T1.STK_CD;"
   ]
  },
  {
   "cell_type": "markdown",
   "metadata": {},
   "source": [
    "[BOOSTER 5.8-3] '삼성전자'의 2019년도 마지막 주식 거래 일자의 주가 정보를 보여주세요.\n",
    "  - 마지막 주식 거래 일자는 WHERE절의 서브쿼리로 구해주세요."
   ]
  },
  {
   "cell_type": "code",
   "execution_count": null,
   "metadata": {},
   "outputs": [],
   "source": [
    "SELECT T1.STK_CD, T1.STK_NM, T2.DT, T2.C_PRC C_PRC\n",
    "FROM STOCK T1\n",
    "INNER JOIN HISTORY_DT T2\n",
    "ON (T2.STK_CD=T1.STK_CD)\n",
    "WHERE T1.STK_NM='삼성전자'\n",
    "AND T2.DT=\n",
    "          (SELECT MAX(A.DT)\n",
    "          FROM HISTORY_DT A\n",
    "          WHERE A.DT<STR_TO_DATE('20191231', '%Y%m%d'))\n",
    "ORDER BY T1.STK_CD;"
   ]
  },
  {
   "cell_type": "markdown",
   "metadata": {},
   "source": [
    "2019년 1월 2일에 '삼성전자', '카카오', 'LG화학'을 10주씩 매수(BUY) 했다고 가정해 보자. 위와 같이 매수한 종목을 2019년 12월 27일에 매도(SELL) 했다고 가정해 보자. 이와 같은 가정으로 수익률을 계산하는 SQL은 아래와 같다. 매수를 처리한 SQL에 매도 시점의 HISTORY_DT(T_SELL)를 한 번 더 조인해 매도한 일자의 종가를 가져와 수익률을 구할 수 있다."
   ]
  },
  {
   "cell_type": "code",
   "execution_count": null,
   "metadata": {},
   "outputs": [],
   "source": [
    "SELECT T1.STK_CD, T1.STK_NM, A.DT BUY_DT, \n",
    "       ROUND(A.C_PRC,1) BUY_PRC, \n",
    "       ROUND(A.C_PRC*10,1) BUY_AMT,\n",
    "       ROUND(B.C_PRC,1) SELL_PRC,\n",
    "       ROUND(B.C_PRC*10,1) SELL_AMT,\n",
    "       ROUND((B.C_PRC-A.C_PRC)/A.C_PRC*100,1) EARN_RT,\n",
    "       ROUND(B.C_PRC*10-A.C_PRC*10,1) PROFIT\n",
    "\n",
    "FROM STOCK T1\n",
    "INNER JOIN HISTORY_DT A\n",
    "ON (A.STK_CD=T1.STK_CD)\n",
    "INNER JOIN HISTORY_DT B\n",
    "ON (B.STK_CD=T1.STK_CD)\n",
    "WHERE T1.STK_NM IN ('삼성전자','카카오','LG화학')\n",
    "AND A.DT=STR_TO_DATE('20190102','%Y%m%d')\n",
    "AND B.DT=STR_TO_DATE('20191227','%Y%m%d')\n",
    ";"
   ]
  },
  {
   "cell_type": "markdown",
   "metadata": {},
   "source": [
    "[BOOSTER 5.10-1] '삼성전자', 'SK하이닉스', '현대차'를 2019년 1월 2일에 한 주씩 매수해서 2019년 12월 27일에 매도했을 때 각각의 수익률을 구해주세요.\n",
    "  - 수익률: (SELL종가 - BUY종가) / BUY종가 * 100\n",
    "  - 수익률에서 세금과 수수료는 고려하지 않습니다.\n",
    "  - 수익률은 사용자 함수가 아닌 직접 계산으로 처리해 주세요."
   ]
  },
  {
   "cell_type": "code",
   "execution_count": null,
   "metadata": {},
   "outputs": [],
   "source": [
    "SELECT T1.STK_CD, T1.STK_NM, T2.DT BUY_DT, T2.C_PRC BUY_PRC, T3.DT SELL_DT, \n",
    "       T3.C_PRC SELL_PRC, \n",
    "       ROUND((T3.C_PRC-T2.C_PRC)/T2.C_PRC*100,1) EARN_RT\n",
    "FROM STOCK T1\n",
    "INNER JOIN HISTORY_DT T2\n",
    "ON (T2.STK_CD=T1.STK_CD)\n",
    "AND T2.DT=STR_TO_DATE('20190102','%Y%m%d')\n",
    "INNER JOIN HISTORY_DT T3\n",
    "ON (T3.STK_CD=T1.STK_CD)\n",
    "AND T3.DT=STR_TO_DATE('20191227','%Y%m%d')\n",
    "WHERE T1.STK_NM IN ('SK하이닉스','현대차','삼성전자')\n",
    "ORDER BY T1.STK_CD ASC;"
   ]
  },
  {
   "cell_type": "markdown",
   "metadata": {},
   "source": [
    "[BOOSTER 5.10-2] 위 SQL([BOOSTER 5.10-1]) 결과에서, BUY 시점에 종목별로 다섯 주씩 샀다고 가정했을 때, 종목별 매수금액, 매도 금액, 수익 금액을 구해주세요.\n",
    "  - 수익률과 수익금은 사용자 함수가 아닌 직접 계산으로 처리해 주세요."
   ]
  },
  {
   "cell_type": "code",
   "execution_count": null,
   "metadata": {},
   "outputs": [],
   "source": [
    "SELECT T1.STK_CD, T1.STK_NM, T2.DT BUY_DT, \n",
    "       T2.C_PRC BUY_PRC, \n",
    "       T3.DT SELL_DT, \n",
    "       T3.C_PRC SELL_PRC, \n",
    "       ROUND((T3.C_PRC-T2.C_PRC)/T2.C_PRC*100,1) EARN_RT,\n",
    "       ROUND(T2.C_PRC*5,1) BUY_AMT,\n",
    "       ROUND(T3.C_PRC*5,1) SELL_AMT,\n",
    "       ROUND(T3.C_PRC*5-T2.C_PRC*5,1) PROFIT\n",
    "FROM STOCK T1\n",
    "INNER JOIN HISTORY_DT T2\n",
    "ON (T2.STK_CD=T1.STK_CD)\n",
    "AND T2.DT=STR_TO_DATE('20190102','%Y%m%d')\n",
    "INNER JOIN HISTORY_DT T3\n",
    "ON (T3.STK_CD=T1.STK_CD)\n",
    "AND T3.DT=STR_TO_DATE('20191227','%Y%m%d')\n",
    "WHERE T1.STK_NM IN ('SK하이닉스','현대차','삼성전자')\n",
    "ORDER BY T1.STK_CD ASC;"
   ]
  },
  {
   "cell_type": "markdown",
   "metadata": {},
   "source": [
    "[BOOSTER 5.10-3] '삼성전자'를 2019년 1월 2일에 한 주를 매수합니다. 2019년 2월 1일과 2019년 3월 4일에 매도했을 때 각각 수익률을 구하세요.\n",
    "  - 매수 시점은 같고, 매도 일자는 다릅니다. 매도 일자별로 수익률을 구하면 됩니다.\n",
    "  - 매도 일자로 오름차순 정렬해 주세요.\n",
    "  - 수익률은 사용자 함수(UFN_CHG_RT)로 구해주세요."
   ]
  },
  {
   "cell_type": "code",
   "execution_count": null,
   "metadata": {},
   "outputs": [],
   "source": [
    "SELECT T1.STK_CD, T1.STK_NM, T_BUY.DT BUY_DT, T_BUY.C_PRC BUY_PRC, \n",
    "       T_SELL.DT SELL_DT, \n",
    "       T_SELL.C_PRC SELL_PRC, \n",
    "       UFN_CHG_RT(T_BUY.C_PRC, T_SELL.C_PRC) CHG_RT\n",
    "FROM STOCK T1\n",
    "INNER JOIN HISTORY_DT T_BUY\n",
    "ON T_BUY.STK_CD=T1.STK_CD\n",
    "INNER JOIN HISTORY_DT T_SELL\n",
    "ON T_SELL.STK_CD=T1.STK_CD\n",
    "\n",
    "WHERE T1.STK_NM='삼성전자'\n",
    "AND T_BUY.DT=STR_TO_DATE('20190102','%Y%m%d')\n",
    "AND (T_SELL.DT=STR_TO_DATE('20190201','%Y%m%d') OR \n",
    "     T_SELL.DT=STR_TO_DATE('20190304','%Y%m%d'))\n",
    "ORDER BY T_SELL.DT ASC\n",
    ";"
   ]
  }
 ],
 "metadata": {
  "language_info": {
   "name": "python"
  },
  "orig_nbformat": 4
 },
 "nbformat": 4,
 "nbformat_minor": 2
}
